{
 "cells": [
  {
   "cell_type": "markdown",
   "metadata": {
    "collapsed": false,
    "deletable": true,
    "editable": true
   },
   "source": [
    "# Load data and probe data stats"
   ]
  },
  {
   "cell_type": "code",
   "execution_count": 2,
   "metadata": {
    "collapsed": true,
    "deletable": true,
    "editable": true
   },
   "outputs": [],
   "source": [
    "from sklearn.datasets import load_boston\n",
    "import numpy as np\n",
    "boston = load_boston()\n",
    "X = boston.data\n",
    "y = boston.target"
   ]
  },
  {
   "cell_type": "code",
   "execution_count": 6,
   "metadata": {
    "collapsed": false,
    "deletable": true,
    "editable": true
   },
   "outputs": [
    {
     "name": "stdout",
     "output_type": "stream",
     "text": [
      "number of houses: 506\n",
      "number of features: 13\n",
      "max price of house: 50.0\n",
      "min price of house: 5.0\n",
      "mean price of house: 22.5328063241\n",
      "median price of house: 21.2\n",
      "standard deviation for prices of house: 9.18801154528\n"
     ]
    }
   ],
   "source": [
    "import matplotlib.pyplot as plt\n",
    "import numpy as np\n",
    "\n",
    "number_of_houses = X.shape[0]\n",
    "number_of_features = X.shape[1]\n",
    "max_price = np.max(y)\n",
    "min_price = np.min(y)\n",
    "mean_price = np.mean(y)\n",
    "median_price = np.median(y)\n",
    "standard_deviation = np.std(y)\n",
    "print \"number of houses:\",number_of_houses\n",
    "print \"number of features:\",number_of_features\n",
    "print \"max price of house:\",max_price\n",
    "print \"min price of house:\",min_price\n",
    "print \"mean price of house:\",mean_price\n",
    "print \"median price of house:\",median_price\n",
    "print \"standard deviation for prices of house:\",standard_deviation"
   ]
  },
  {
   "cell_type": "code",
   "execution_count": 29,
   "metadata": {
    "collapsed": false,
    "deletable": true,
    "editable": true
   },
   "outputs": [
    {
     "name": "stdout",
     "output_type": "stream",
     "text": [
      "features mean [  3.59376071e+00   1.13636364e+01   1.11367787e+01   6.91699605e-02\n",
      "   5.54695059e-01   6.28463439e+00   6.85749012e+01   3.79504269e+00\n",
      "   9.54940711e+00   4.08237154e+02   1.84555336e+01   3.56674032e+02\n",
      "   1.26530632e+01]\n",
      "features variance [  8.58828355e+00   2.32993957e+01   6.85357058e+00   2.53742935e-01\n",
      "   1.15763115e-01   7.01922514e-01   2.81210326e+01   2.10362836e+00\n",
      "   8.69865112e+00   1.68370495e+02   2.16280519e+00   9.12046075e+01\n",
      "   7.13400164e+00]\n"
     ]
    }
   ],
   "source": [
    "print(\"features mean %s\" % str(np.mean(X, axis = 0)))\n",
    "print(\"features variance %s\" % str(np.std(X, axis = 0)))"
   ]
  },
  {
   "cell_type": "markdown",
   "metadata": {
    "deletable": true,
    "editable": true
   },
   "source": [
    "# Load boston data and split into train and test data"
   ]
  },
  {
   "cell_type": "code",
   "execution_count": 3,
   "metadata": {
    "collapsed": true,
    "deletable": true,
    "editable": true
   },
   "outputs": [],
   "source": [
    "train_size = int(0.7 * y.size)\n",
    "np.random.seed(0)\n",
    "indices = np.random.permutation(y.size)\n",
    "\n",
    "train_X = X[indices[:train_size]]\n",
    "train_y = y[indices[:train_size]]\n",
    "test_X = X[indices[train_size:]]\n",
    "test_y = y[indices[train_size:]]"
   ]
  },
  {
   "cell_type": "markdown",
   "metadata": {
    "deletable": true,
    "editable": true
   },
   "source": [
    "# Basic regression model\n",
    "1. Linear regression\n",
    "2. Ridge regression\n",
    "3. Lasso regression"
   ]
  },
  {
   "cell_type": "code",
   "execution_count": 6,
   "metadata": {
    "collapsed": true,
    "deletable": true,
    "editable": true
   },
   "outputs": [],
   "source": [
    "from sklearn import linear_model\n",
    "from sklearn.metrics import mean_squared_error"
   ]
  },
  {
   "cell_type": "code",
   "execution_count": 9,
   "metadata": {
    "collapsed": false,
    "deletable": true,
    "editable": true
   },
   "outputs": [
    {
     "name": "stdout",
     "output_type": "stream",
     "text": [
      "Baseline MSE: 99.330\n"
     ]
    }
   ],
   "source": [
    "pred_y = np.full(test_y.shape, train_y.mean())\n",
    "print(\"Baseline MSE: %.3f\" % mean_squared_error(test_y, pred_y))"
   ]
  },
  {
   "cell_type": "code",
   "execution_count": 10,
   "metadata": {
    "collapsed": false,
    "deletable": true,
    "editable": true
   },
   "outputs": [
    {
     "name": "stdout",
     "output_type": "stream",
     "text": [
      "Linear regression, MSE: 24.541, score 0.752\n"
     ]
    }
   ],
   "source": [
    "reg = linear_model.LinearRegression()\n",
    "pred_y = reg.fit(train_X, train_y).predict(test_X)\n",
    "score = reg.score(test_X, test_y)\n",
    "print(\"Linear regression, MSE: %.3f, score %.3f\" % (mean_squared_error(test_y, pred_y), score))"
   ]
  },
  {
   "cell_type": "code",
   "execution_count": 11,
   "metadata": {
    "collapsed": false,
    "deletable": true,
    "editable": true
   },
   "outputs": [
    {
     "name": "stdout",
     "output_type": "stream",
     "text": [
      "Ridge with alpha = 0.010, MSE: 24.546, score 0.752\n"
     ]
    }
   ],
   "source": [
    "reg_cv = linear_model.RidgeCV(alphas=[0.01, 0.1, 1.0, 10.0])\n",
    "pred_y = reg_cv.fit(train_X, train_y).predict(test_X)\n",
    "print(\"Ridge with alpha = %.3f, MSE: %.3f, score %.3f\"\n",
    "      % (reg_cv.alpha_, mean_squared_error(test_y, pred_y), reg_cv.score(test_X, test_y) ))"
   ]
  },
  {
   "cell_type": "code",
   "execution_count": 12,
   "metadata": {
    "collapsed": false,
    "deletable": true,
    "editable": true
   },
   "outputs": [
    {
     "name": "stdout",
     "output_type": "stream",
     "text": [
      "Lasso with alpha = 0.010, MSE: 24.768, score: 0.750\n"
     ]
    }
   ],
   "source": [
    "lasso_cv = linear_model.LassoCV(alphas=[0.01, 0.1, 1.0, 10.0])\n",
    "pred_y = lasso_cv.fit(train_X, train_y).predict(test_X)\n",
    "print(\"Lasso with alpha = %.3f, MSE: %.3f, score: %.3f\"\n",
    "      % (reg_cv.alpha_, mean_squared_error(test_y, pred_y), lasso_cv.score(test_X, test_y) ))"
   ]
  },
  {
   "cell_type": "code",
   "execution_count": 13,
   "metadata": {
    "collapsed": false,
    "deletable": true,
    "editable": true
   },
   "outputs": [
    {
     "name": "stdout",
     "output_type": "stream",
     "text": [
      "BayesianRidge MSE: 26.217, score: 0.735\n"
     ]
    }
   ],
   "source": [
    "br = linear_model.BayesianRidge()\n",
    "pred_y = br.fit(train_X, train_y).predict(test_X)\n",
    "print(\"BayesianRidge MSE: %.3f, score: %.3f\"\n",
    "      % (mean_squared_error(test_y, pred_y), br.score(test_X, test_y)))"
   ]
  },
  {
   "cell_type": "markdown",
   "metadata": {
    "collapsed": true,
    "deletable": true,
    "editable": true
   },
   "source": [
    "# Whiten features"
   ]
  },
  {
   "cell_type": "code",
   "execution_count": 18,
   "metadata": {
    "collapsed": false,
    "deletable": true,
    "editable": true
   },
   "outputs": [],
   "source": [
    "from sklearn import preprocessing\n",
    "X_scaled = preprocessing.scale(X)\n",
    "train_X_scaled = X[indices[:train_size]]\n",
    "test_X_scaled = X[indices[train_size:]]"
   ]
  },
  {
   "cell_type": "code",
   "execution_count": 27,
   "metadata": {
    "collapsed": false,
    "deletable": true,
    "editable": true
   },
   "outputs": [
    {
     "name": "stdout",
     "output_type": "stream",
     "text": [
      "Scaled features mean [  6.34099712e-17  -6.34319123e-16  -2.68291099e-15   4.70199198e-16\n",
      "   2.49032240e-15  -1.14523016e-14  -1.40785495e-15   9.21090169e-16\n",
      "   5.44140929e-16  -8.86861950e-16  -9.20563581e-15   8.16310129e-15\n",
      "  -3.37016317e-16]\n",
      "Scaled features variance [ 1.  1.  1.  1.  1.  1.  1.  1.  1.  1.  1.  1.  1.]\n"
     ]
    }
   ],
   "source": [
    "print(\"Scaled features mean \" + str(np.mean(X_scaled, axis=0)))\n",
    "print(\"Scaled features variance \" + str(np.std(X_scaled, axis=0)))"
   ]
  },
  {
   "cell_type": "code",
   "execution_count": 18,
   "metadata": {
    "collapsed": false,
    "deletable": true,
    "editable": true
   },
   "outputs": [
    {
     "name": "stdout",
     "output_type": "stream",
     "text": [
      "Linear regression, MSE: 24.541, score 0.752\n"
     ]
    }
   ],
   "source": [
    "reg = linear_model.LinearRegression()\n",
    "pred_y = reg.fit(train_X_scaled, train_y).predict(test_X_scaled)\n",
    "score = reg.score(test_X_scaled, test_y)\n",
    "print(\"Linear regression, MSE: %.3f, score %.3f\" % (mean_squared_error(test_y, pred_y), score))"
   ]
  },
  {
   "cell_type": "code",
   "execution_count": 19,
   "metadata": {
    "collapsed": false,
    "deletable": true,
    "editable": true
   },
   "outputs": [
    {
     "name": "stdout",
     "output_type": "stream",
     "text": [
      "Ridge with alpha = 0.010, MSE: 24.546, score 0.752\n"
     ]
    }
   ],
   "source": [
    "reg_cv = linear_model.RidgeCV(alphas=[0.01, 0.1, 1.0, 10.0])\n",
    "pred_y = reg_cv.fit(train_X_scaled, train_y).predict(test_X_scaled)\n",
    "print(\"Ridge with alpha = %.3f, MSE: %.3f, score %.3f\"\n",
    "      % (reg_cv.alpha_, mean_squared_error(test_y, pred_y), reg_cv.score(test_X_scaled, test_y) ))"
   ]
  },
  {
   "cell_type": "code",
   "execution_count": 20,
   "metadata": {
    "collapsed": false,
    "deletable": true,
    "editable": true
   },
   "outputs": [
    {
     "name": "stdout",
     "output_type": "stream",
     "text": [
      "Lasso with alpha = 0.010, MSE: 24.768, score: 0.750\n"
     ]
    }
   ],
   "source": [
    "lasso_cv = linear_model.LassoCV(alphas=[0.01, 0.1, 1.0, 10.0])\n",
    "pred_y = lasso_cv.fit(train_X_scaled, train_y).predict(test_X_scaled)\n",
    "print(\"Lasso with alpha = %.3f, MSE: %.3f, score: %.3f\"\n",
    "      % (reg_cv.alpha_, mean_squared_error(test_y, pred_y), lasso_cv.score(test_X_scaled, test_y) ))"
   ]
  },
  {
   "cell_type": "code",
   "execution_count": 21,
   "metadata": {
    "collapsed": false,
    "deletable": true,
    "editable": true
   },
   "outputs": [
    {
     "name": "stdout",
     "output_type": "stream",
     "text": [
      "BayesianRidge MSE: 26.217, score: 0.735\n"
     ]
    }
   ],
   "source": [
    "br = linear_model.BayesianRidge()\n",
    "pred_y = br.fit(train_X_scaled, train_y).predict(test_X_scaled)\n",
    "print(\"BayesianRidge MSE: %.3f, score: %.3f\"\n",
    "      % (mean_squared_error(test_y, pred_y), br.score(test_X_scaled, test_y)))"
   ]
  },
  {
   "cell_type": "markdown",
   "metadata": {
    "collapsed": true,
    "deletable": true,
    "editable": true
   },
   "source": [
    "# Decision Tree and Ensemble Learning"
   ]
  },
  {
   "cell_type": "code",
   "execution_count": 13,
   "metadata": {
    "collapsed": false,
    "deletable": true,
    "editable": true
   },
   "outputs": [
    {
     "name": "stdout",
     "output_type": "stream",
     "text": [
      "Decision Tree MSE: 29.24\n"
     ]
    }
   ],
   "source": [
    "# Basic decision tree\n",
    "from sklearn.tree import DecisionTreeRegressor\n",
    "dt = DecisionTreeRegressor(max_depth=None,random_state=0)\n",
    "dt.fit(train_X, train_y)\n",
    "pred_y = dt.predict(test_X)\n",
    "print(\"Decision Tree with orig features MSE: %.2f\" % mean_squared_error(test_y, pred_y))"
   ]
  },
  {
   "cell_type": "code",
   "execution_count": 21,
   "metadata": {
    "collapsed": false,
    "deletable": true,
    "editable": true
   },
   "outputs": [
    {
     "name": "stdout",
     "output_type": "stream",
     "text": [
      "Decision Tree with whiten features MSE: 29.24\n"
     ]
    }
   ],
   "source": [
    "# Basic decision tree\n",
    "from sklearn.tree import DecisionTreeRegressor\n",
    "wdt = DecisionTreeRegressor(max_depth=None,random_state=0)\n",
    "wdt.fit(train_X_scaled, train_y)\n",
    "pred_y = dt.predict(test_X_scaled)\n",
    "print(\"Decision Tree with whiten features MSE: %.2f\" % mean_squared_error(test_y, pred_y))"
   ]
  },
  {
   "cell_type": "code",
   "execution_count": 47,
   "metadata": {
    "collapsed": false,
    "deletable": true,
    "editable": true
   },
   "outputs": [
    {
     "name": "stdout",
     "output_type": "stream",
     "text": [
      "Ada boost decision tree with orig features MSE: 11.12\n"
     ]
    }
   ],
   "source": [
    "from sklearn.ensemble import AdaBoostRegressor\n",
    "from sklearn.tree import DecisionTreeRegressor\n",
    "ada = AdaBoostRegressor(DecisionTreeRegressor(max_depth=None),\n",
    "                        n_estimators=3500,\n",
    "                        random_state=np.random.RandomState(1))\n",
    "ada.fit(train_X, train_y)\n",
    "pred_y = ada.predict(test_X)\n",
    "print(\"Ada boost decision tree with orig features MSE: %.2f\" % mean_squared_error(test_y, pred_y))"
   ]
  },
  {
   "cell_type": "code",
   "execution_count": 48,
   "metadata": {
    "collapsed": false,
    "deletable": true,
    "editable": true
   },
   "outputs": [
    {
     "name": "stdout",
     "output_type": "stream",
     "text": [
      "Ada boost decision tree with whiten features MSE: 11.11\n"
     ]
    }
   ],
   "source": [
    "ada = AdaBoostRegressor(DecisionTreeRegressor(max_depth=None),\n",
    "                        n_estimators=500,\n",
    "                        random_state=np.random.RandomState(1))\n",
    "ada.fit(train_X_scaled, train_y)\n",
    "pred_y = ada.predict(test_X_scaled)\n",
    "print(\"Ada boost decision tree with whiten features MSE: %.2f\" % mean_squared_error(test_y, pred_y))"
   ]
  },
  {
   "cell_type": "code",
   "execution_count": 50,
   "metadata": {
    "collapsed": false,
    "deletable": true,
    "editable": true
   },
   "outputs": [
    {
     "name": "stdout",
     "output_type": "stream",
     "text": [
      "Random forest with orig features MSE: 15.12\n",
      "Random forest with whiten features MSE: 14.80\n"
     ]
    }
   ],
   "source": [
    "from sklearn.ensemble import RandomForestRegressor\n",
    "orf = RandomForestRegressor(n_estimators=500, criterion='mse', max_depth=None)\n",
    "orf.fit(train_X, train_y)\n",
    "pred_y = orf.predict(test_X)\n",
    "print(\"Random forest with orig features MSE: %.2f\" % mean_squared_error(test_y, pred_y))\n",
    "wrf = RandomForestRegressor(n_estimators=500, criterion='mse', max_depth=None)\n",
    "wrf.fit(train_X, train_y)\n",
    "pred_y = wrf.predict(test_X)\n",
    "print(\"Random forest with whiten features MSE: %.2f\" % mean_squared_error(test_y, pred_y))"
   ]
  },
  {
   "cell_type": "code",
   "execution_count": 56,
   "metadata": {
    "collapsed": false,
    "deletable": true,
    "editable": true
   },
   "outputs": [
    {
     "name": "stdout",
     "output_type": "stream",
     "text": [
      "Gradient Boosting Regressor MSE: 14.02\n",
      "Gradient Boosting Regressor MSE: 14.02\n"
     ]
    }
   ],
   "source": [
    "from sklearn.ensemble import GradientBoostingRegressor\n",
    "ogbr = GradientBoostingRegressor(n_estimators=500, learning_rate=0.1,\n",
    "                                 max_depth=1, random_state=0, loss='ls')\n",
    "ogbr.fit(train_X, train_y)\n",
    "pred_y = ogbr.predict(test_X)\n",
    "print(\"Gradient Boosting Regressor MSE: %.2f\" % mean_squared_error(test_y, pred_y))\n",
    "\n",
    "wgbr = GradientBoostingRegressor(n_estimators=500, learning_rate=0.1,\n",
    "                                 max_depth=1, random_state=0, loss='ls')\n",
    "wgbr.fit(train_X_scaled, train_y)\n",
    "pred_y = wgbr.predict(test_X_scaled)\n",
    "print(\"Gradient Boosting Regressor MSE: %.2f\" % mean_squared_error(test_y, pred_y))"
   ]
  },
  {
   "cell_type": "markdown",
   "metadata": {},
   "source": [
    "# SVM"
   ]
  },
  {
   "cell_type": "code",
   "execution_count": null,
   "metadata": {
    "collapsed": true
   },
   "outputs": [],
   "source": [
    "from sklearn."
   ]
  }
 ],
 "metadata": {
  "kernelspec": {
   "display_name": "Python 2",
   "language": "python",
   "name": "python2"
  },
  "language_info": {
   "codemirror_mode": {
    "name": "ipython",
    "version": 2
   },
   "file_extension": ".py",
   "mimetype": "text/x-python",
   "name": "python",
   "nbconvert_exporter": "python",
   "pygments_lexer": "ipython2",
   "version": "2.7.12"
  }
 },
 "nbformat": 4,
 "nbformat_minor": 2
}
