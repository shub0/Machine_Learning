{
 "cells": [
  {
   "cell_type": "markdown",
   "metadata": {
    "deletable": true,
    "editable": true
   },
   "source": [
    "# Comparsion\n",
    "Scikit-learn provides 3 robust regression estimators: RANSAC, Theil Sen and HuberRegressor\n",
    "1. HuberRegressor should be faster than RANSAC and Theil Sen unless the number of samples are very large, i.e n_samples >> n_features. This is because RANSAC and Theil Sen fit on smaller subsets of the data. However, both Theil Sen and RANSAC are unlikely to be as robust as HuberRegressor for the default parameters.\n",
    "2. RANSAC is faster than Theil Sen and scales much better with the number of samples\n",
    "3. RANSAC will deal better with large outliers in the y direction (most common situation)\n",
    "4. Theil Sen will cope better with medium-size outliers in the X direction, but this property will disappear in large dimensional settings.\n",
    "\n",
    "When in doubt, use RANSAC\n"
   ]
  },
  {
   "cell_type": "code",
   "execution_count": 9,
   "metadata": {
    "collapsed": false,
    "deletable": true,
    "editable": true
   },
   "outputs": [
    {
     "name": "stdout",
     "output_type": "stream",
     "text": [
      "OLS for Modeling Errors Only : error = 0.002\n",
      "Theil-Sen for Modeling Errors Only : error = 0.018\n",
      "RANSAC for Modeling Errors Only : error = 0.003\n",
      "HuberRegressor for Modeling Errors Only : error = 0.006\n",
      "\n",
      "OLS for Corrupt X, Small Deviants : error = 0.001\n",
      "Theil-Sen for Corrupt X, Small Deviants : error = 0.002\n",
      "RANSAC for Corrupt X, Small Deviants : error = 0.003\n",
      "HuberRegressor for Corrupt X, Small Deviants : error = 0.002\n",
      "\n",
      "OLS for Corrupt y, Small Deviants : error = 1.065\n",
      "Theil-Sen for Corrupt y, Small Deviants : error = 0.061\n",
      "RANSAC for Corrupt y, Small Deviants : error = 0.001\n",
      "HuberRegressor for Corrupt y, Small Deviants : error = 0.005\n",
      "\n",
      "OLS for Corrupt X, Large Deviants : error = 0.068\n",
      "Theil-Sen for Corrupt X, Large Deviants : error = 0.106\n",
      "RANSAC for Corrupt X, Large Deviants : error = 0.148\n",
      "HuberRegressor for Corrupt X, Large Deviants : error = 0.084\n",
      "\n",
      "OLS for Corrupt y, Large Deviants : error = 11.264\n",
      "Theil-Sen for Corrupt y, Large Deviants : error = 0.250\n",
      "RANSAC for Corrupt y, Large Deviants : error = 0.001\n",
      "HuberRegressor for Corrupt y, Large Deviants : error = 0.005\n",
      "\n"
     ]
    }
   ],
   "source": [
    "from matplotlib import pyplot as plt\n",
    "import numpy as np\n",
    "\n",
    "from sklearn.linear_model import LinearRegression, TheilSenRegressor, RANSACRegressor\n",
    "from sklearn.linear_model import HuberRegressor\n",
    "from sklearn.metrics import mean_squared_error\n",
    "from sklearn.preprocessing import PolynomialFeatures\n",
    "from sklearn.pipeline import make_pipeline\n",
    "\n",
    "np.random.seed(42)\n",
    "\n",
    "X = np.random.normal(size=4000)\n",
    "y = np.sin(X)\n",
    "# Make sure that it X is 2D\n",
    "X = X[:, np.newaxis]\n",
    "\n",
    "X_test = np.random.normal(size=200)\n",
    "y_test = np.sin(X_test)\n",
    "X_test = X_test[:, np.newaxis]\n",
    "\n",
    "y_errors = y.copy()\n",
    "y_errors[::3] = 3\n",
    "\n",
    "X_errors = X.copy()\n",
    "X_errors[::3] = 3\n",
    "\n",
    "y_errors_large = y.copy()\n",
    "y_errors_large[::3] = 10\n",
    "\n",
    "X_errors_large = X.copy()\n",
    "X_errors_large[::3] = 10\n",
    "\n",
    "estimators = [('OLS', LinearRegression()),\n",
    "              ('Theil-Sen', TheilSenRegressor(random_state=42)),\n",
    "              ('RANSAC', RANSACRegressor(random_state=42)),\n",
    "              ('HuberRegressor', HuberRegressor())\n",
    "             ]\n",
    "linestyle = {'OLS': '-',\n",
    "             'Theil-Sen': '-.',\n",
    "             'RANSAC': '--',\n",
    "             'HuberRegressor': '--'\n",
    "            }\n",
    "lw = 3\n",
    "\n",
    "x_plot = np.linspace(X.min(), X.max())\n",
    "for title, this_X, this_y in [\n",
    "        ('Modeling Errors Only', X, y),\n",
    "        ('Corrupt X, Small Deviants', X_errors, y),\n",
    "        ('Corrupt y, Small Deviants', X, y_errors),\n",
    "        ('Corrupt X, Large Deviants', X_errors_large, y),\n",
    "        ('Corrupt y, Large Deviants', X, y_errors_large)]:\n",
    "    for name, estimator in estimators:\n",
    "        model = make_pipeline(PolynomialFeatures(3), estimator)\n",
    "        model.fit(this_X, this_y)\n",
    "        mse = mean_squared_error(model.predict(X_test), y_test)\n",
    "        y_plot = model.predict(x_plot[:, np.newaxis])\n",
    "        print('%s for %s : error = %.3f' % (name, title, mse)) \n",
    "    print"
   ]
  },
  {
   "cell_type": "code",
   "execution_count": null,
   "metadata": {
    "collapsed": true
   },
   "outputs": [],
   "source": []
  }
 ],
 "metadata": {
  "kernelspec": {
   "display_name": "Python 2",
   "language": "python",
   "name": "python2"
  },
  "language_info": {
   "codemirror_mode": {
    "name": "ipython",
    "version": 2
   },
   "file_extension": ".py",
   "mimetype": "text/x-python",
   "name": "python",
   "nbconvert_exporter": "python",
   "pygments_lexer": "ipython2",
   "version": "2.7.12"
  }
 },
 "nbformat": 4,
 "nbformat_minor": 2
}
