{
 "cells": [
  {
   "cell_type": "markdown",
   "metadata": {
    "deletable": true,
    "editable": true
   },
   "source": [
    "\n",
    "# Logistic Regression 3-class Classifier\n",
    "\n",
    "\n",
    "Show below is a logistic-regression classifiers decision boundaries on the\n",
    "`iris <https://en.wikipedia.org/wiki/Iris_flower_data_set>`_ dataset. The\n",
    "datapoints are colored according to their labels.\n",
    "\n"
   ]
  },
  {
   "cell_type": "code",
   "execution_count": 5,
   "metadata": {
    "collapsed": false,
    "deletable": true,
    "editable": true
   },
   "outputs": [
    {
     "name": "stdout",
     "output_type": "stream",
     "text": [
      "Loading Iris data ...\n",
      "Target distribution\n",
      "[(0, 50), (1, 50), (2, 50)]\n",
      "Done\n"
     ]
    }
   ],
   "source": [
    "import numpy as np\n",
    "import matplotlib.pyplot as plt\n",
    "from sklearn import linear_model, datasets\n",
    "\n",
    "print(\"Loading Iris data ...\")\n",
    "iris = datasets.load_iris()\n",
    "iris_X = iris.data\n",
    "iris_Y = iris.target\n",
    "total_size = len(iris_Y)\n",
    "train_size = int(0.5 * total_size)\n",
    "np.random.seed(0)\n",
    "indices = np.random.permutation(len(iris_Y))\n",
    "train_x = iris_X[indices[:train_size]]\n",
    "train_y = iris_Y[indices[:train_size]]\n",
    "\n",
    "test_x = iris_X[indices[train_size:]]\n",
    "test_y = iris_Y[indices[train_size:]]\n",
    "print(\"Target distribution\")\n",
    "print(zip(np.unique(iris.target), np.bincount(iris.target)))\n",
    "print(\"Done\")"
   ]
  },
  {
   "cell_type": "code",
   "execution_count": 17,
   "metadata": {
    "collapsed": false
   },
   "outputs": [
    {
     "name": "stdout",
     "output_type": "stream",
     "text": [
      "(75, 4)\n"
     ]
    }
   ],
   "source": [
    "print train_x.shape"
   ]
  },
  {
   "cell_type": "code",
   "execution_count": 19,
   "metadata": {
    "collapsed": false,
    "deletable": true,
    "editable": true
   },
   "outputs": [
    {
     "name": "stdout",
     "output_type": "stream",
     "text": [
      "Misclassified 2 out of 75 samples\n",
      "[[  1.25644948   4.89685397  -7.11875799  -3.41855163]\n",
      " [ -0.02837947  -1.81867988   1.23581439  -2.68041785]\n",
      " [ -0.34362878  -6.3992516    5.53572612  15.3610706 ]]\n",
      "[  0.7997799    3.65161857 -31.47325   ]\n"
     ]
    }
   ],
   "source": [
    "log_reg = linear_model.LogisticRegression(C=1e5)\n",
    "log_reg.fit(train_x, train_y)\n",
    "pred_y = log_reg.predict(test_x)\n",
    "mis_cnt = len(filter(lambda x: x[0] != x[1], zip(pred_y, test_y)))\n",
    "print(\"Misclassified %d out of %d samples\" % (mis_cnt , test_y.size))\n",
    "print(log_reg.coef_)\n",
    "print(log_reg.intercept_)"
   ]
  },
  {
   "cell_type": "code",
   "execution_count": 7,
   "metadata": {
    "collapsed": false,
    "deletable": true,
    "editable": true
   },
   "outputs": [
    {
     "name": "stdout",
     "output_type": "stream",
     "text": [
      "Misclassified 20 out of 75 samples\n"
     ]
    }
   ],
   "source": [
    "perp = linear_model.Perceptron()\n",
    "perp.fit(train_x, train_y)\n",
    "pred_y = perp.predict(test_x)\n",
    "mis_cnt = len(filter(lambda x: x[0] != x[1], zip(pred_y, test_y)))\n",
    "print(\"Misclassified %d out of %d samples\" % (mis_cnt , test_y.size))"
   ]
  },
  {
   "cell_type": "code",
   "execution_count": 8,
   "metadata": {
    "collapsed": false,
    "deletable": true,
    "editable": true
   },
   "outputs": [
    {
     "name": "stdout",
     "output_type": "stream",
     "text": [
      "Misclassified 2 out of 75 samples\n"
     ]
    }
   ],
   "source": [
    "from sklearn.naive_bayes import GaussianNB\n",
    "gnb = GaussianNB()\n",
    "pred_y = gnb.fit(train_x, train_y).predict(test_x)\n",
    "mis_cnt = len(filter(lambda x: x[0] != x[1], zip(pred_y, test_y)))\n",
    "print(\"Misclassified %d out of %d samples\" % (mis_cnt , test_y.size))"
   ]
  },
  {
   "cell_type": "code",
   "execution_count": 9,
   "metadata": {
    "collapsed": false,
    "deletable": true,
    "editable": true
   },
   "outputs": [
    {
     "name": "stdout",
     "output_type": "stream",
     "text": [
      "Misclassified 3 out of 75 samples\n"
     ]
    }
   ],
   "source": [
    "from sklearn import tree\n",
    "dt = tree.DecisionTreeClassifier()\n",
    "pred_y = dt.fit(train_x, train_y).predict(test_x)\n",
    "mis_cnt = len(filter(lambda x: x[0] != x[1], zip(pred_y, test_y)))\n",
    "print(\"Misclassified %d out of %d samples\" % (mis_cnt , test_y.size))"
   ]
  },
  {
   "cell_type": "code",
   "execution_count": 13,
   "metadata": {
    "collapsed": false,
    "deletable": true,
    "editable": true
   },
   "outputs": [
    {
     "name": "stdout",
     "output_type": "stream",
     "text": [
      "Misclassified 4 out of 75 samples\n"
     ]
    },
    {
     "data": {
      "text/plain": [
       "array([ 0.06296882,  0.05113253,  0.55826489,  0.32763375])"
      ]
     },
     "execution_count": 13,
     "metadata": {},
     "output_type": "execute_result"
    }
   ],
   "source": [
    "from sklearn.ensemble import RandomForestClassifier\n",
    "rf = RandomForestClassifier(n_estimators=10)\n",
    "pred_y = rf.fit(train_x, train_y).predict(test_x)\n",
    "mis_cnt = len(filter(lambda x: x[0] != x[1], zip(pred_y, test_y)))\n",
    "print(\"Misclassified %d out of %d samples\" % (mis_cnt , test_y.size))\n",
    "rf.feature_importances_"
   ]
  },
  {
   "cell_type": "code",
   "execution_count": 11,
   "metadata": {
    "collapsed": false
   },
   "outputs": [
    {
     "name": "stdout",
     "output_type": "stream",
     "text": [
      "Misclassified 3 out of 75 samples\n"
     ]
    }
   ],
   "source": [
    "from sklearn.ensemble import BaggingClassifier\n",
    "from sklearn.neighbors import KNeighborsClassifier\n",
    "bagging = BaggingClassifier(KNeighborsClassifier(), max_samples=0.5, max_features=0.5)\n",
    "pred_y = bagging.fit(train_x, train_y).predict(test_x)\n",
    "mis_cnt = len(filter(lambda x: x[0] != x[1], zip(pred_y, test_y)))\n",
    "print(\"Misclassified %d out of %d samples\" % (mis_cnt , test_y.size))"
   ]
  },
  {
   "cell_type": "code",
   "execution_count": 20,
   "metadata": {
    "collapsed": false
   },
   "outputs": [
    {
     "name": "stdout",
     "output_type": "stream",
     "text": [
      "Misclassified 3 out of 75 samples\n"
     ]
    }
   ],
   "source": [
    "from sklearn.ensemble import AdaBoostClassifier\n",
    "ada = AdaBoostClassifier()\n",
    "pred_y = ada.fit(train_x, train_y).predict(test_x)\n",
    "mis_cnt = len(filter(lambda x: x[0] != x[1], zip(pred_y, test_y)))\n",
    "print(\"Misclassified %d out of %d samples\" % (mis_cnt , test_y.size))"
   ]
  }
 ],
 "metadata": {
  "kernelspec": {
   "display_name": "Python 2",
   "language": "python",
   "name": "python2"
  },
  "language_info": {
   "codemirror_mode": {
    "name": "ipython",
    "version": 2
   },
   "file_extension": ".py",
   "mimetype": "text/x-python",
   "name": "python",
   "nbconvert_exporter": "python",
   "pygments_lexer": "ipython2",
   "version": "2.7.12"
  }
 },
 "nbformat": 4,
 "nbformat_minor": 0
}
