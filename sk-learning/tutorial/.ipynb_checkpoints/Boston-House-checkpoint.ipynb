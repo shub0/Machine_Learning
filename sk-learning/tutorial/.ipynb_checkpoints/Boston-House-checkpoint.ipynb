{
 "cells": [
  {
   "cell_type": "code",
   "execution_count": 2,
   "metadata": {
    "collapsed": false
   },
   "outputs": [],
   "source": [
    "from sklearn.datasets import load_boston\n",
    "import numpy as np\n",
    "boston = load_boston()\n",
    "X = boston.data\n",
    "y = boston.target\n",
    "train_size = int(0.7 * y.size)\n",
    "np.random.seed(0)\n",
    "indices = np.random.permutation(y.size)\n",
    "\n",
    "train_X = X[indices[:train_size]]\n",
    "train_y = y[indices[:train_size]]\n",
    "test_X = X[indices[train_size:]]\n",
    "test_y = y[indices[train_size:]]"
   ]
  },
  {
   "cell_type": "code",
   "execution_count": 7,
   "metadata": {
    "collapsed": false
   },
   "outputs": [
    {
     "name": "stdout",
     "output_type": "stream",
     "text": [
      "22.5328063241\n",
      "9.18801154528\n",
      "[ 9 12 18 37 40 42 83 71 72 12 23 18 16 14  7  1  5  5  2 19]\n"
     ]
    }
   ],
   "source": [
    "import matplotlib.pyplot as plt\n",
    "import numpy as np\n",
    "bins = np.arange(y.min(), y.max())\n",
    "hist, bins = np.histogram(y, 20)\n",
    "print(y.mean())\n",
    "print(y.std())\n",
    "print(hist)"
   ]
  },
  {
   "cell_type": "code",
   "execution_count": 11,
   "metadata": {
    "collapsed": false
   },
   "outputs": [],
   "source": [
    "plt.hist(y, bins)\n",
    "plt.title(\"Boston house data target distribution\")\n",
    "plt.show()"
   ]
  },
  {
   "cell_type": "markdown",
   "metadata": {},
   "source": [
    "## The feature dimension of Boston data is 13. "
   ]
  },
  {
   "cell_type": "code",
   "execution_count": 14,
   "metadata": {
    "collapsed": true
   },
   "outputs": [],
   "source": [
    "from sklearn import linear_model\n",
    "from sklearn.metrics import mean_squared_error"
   ]
  },
  {
   "cell_type": "code",
   "execution_count": 15,
   "metadata": {
    "collapsed": false
   },
   "outputs": [
    {
     "name": "stdout",
     "output_type": "stream",
     "text": [
      "Baseline MSE: 99.330\n"
     ]
    }
   ],
   "source": [
    "pred_y = np.full(test_y.shape, train_y.mean())\n",
    "print(\"Baseline MSE: %.3f\" % mean_squared_error(test_y, pred_y))"
   ]
  },
  {
   "cell_type": "code",
   "execution_count": 19,
   "metadata": {
    "collapsed": false
   },
   "outputs": [
    {
     "name": "stdout",
     "output_type": "stream",
     "text": [
      "Linear regression, MSE: 24.541, score 0.752\n"
     ]
    }
   ],
   "source": [
    "reg = linear_model.LinearRegression()\n",
    "pred_y = reg.fit(train_X, train_y).predict(test_X)\n",
    "score = reg.score(test_X, test_y)\n",
    "print(\"Linear regression, MSE: %.3f, score %.3f\" % (mean_squared_error(test_y, pred_y), score))"
   ]
  },
  {
   "cell_type": "code",
   "execution_count": 20,
   "metadata": {
    "collapsed": false
   },
   "outputs": [
    {
     "name": "stdout",
     "output_type": "stream",
     "text": [
      "Ridge with alpha = 0.010, MSE: 24.546, score 0.752\n"
     ]
    }
   ],
   "source": [
    "reg_cv = linear_model.RidgeCV(alphas=[0.01, 0.1, 1.0, 10.0])\n",
    "pred_y = reg_cv.fit(train_X, train_y).predict(test_X)\n",
    "print(\"Ridge with alpha = %.3f, MSE: %.3f, score %.3f\"\n",
    "      % (reg_cv.alpha_, mean_squared_error(test_y, pred_y), reg_cv.score(test_X, test_y) ))"
   ]
  },
  {
   "cell_type": "code",
   "execution_count": 21,
   "metadata": {
    "collapsed": false
   },
   "outputs": [
    {
     "name": "stdout",
     "output_type": "stream",
     "text": [
      "Lasso with alpha = 0.010, MSE: 24.768, score: 0.750\n"
     ]
    }
   ],
   "source": [
    "lasso_cv = linear_model.LassoCV(alphas=[0.01, 0.1, 1.0, 10.0])\n",
    "pred_y = lasso_cv.fit(train_X, train_y).predict(test_X)\n",
    "print(\"Lasso with alpha = %.3f, MSE: %.3f, score: %.3f\"\n",
    "      % (reg_cv.alpha_, mean_squared_error(test_y, pred_y), lasso_cv.score(test_X, test_y) ))"
   ]
  },
  {
   "cell_type": "code",
   "execution_count": 22,
   "metadata": {
    "collapsed": false
   },
   "outputs": [
    {
     "name": "stdout",
     "output_type": "stream",
     "text": [
      "BayesianRidge MSE: 26.217, score: 0.735\n"
     ]
    }
   ],
   "source": [
    "br = linear_model.BayesianRidge()\n",
    "pred_y = br.fit(train_X, train_y).predict(test_X)\n",
    "print(\"BayesianRidge MSE: %.3f, score: %.3f\"\n",
    "      % (mean_squared_error(test_y, pred_y), br.score(test_X, test_y)))"
   ]
  },
  {
   "cell_type": "code",
   "execution_count": null,
   "metadata": {
    "collapsed": true
   },
   "outputs": [],
   "source": []
  }
 ],
 "metadata": {
  "kernelspec": {
   "display_name": "Python 2",
   "language": "python",
   "name": "python2"
  },
  "language_info": {
   "codemirror_mode": {
    "name": "ipython",
    "version": 2
   },
   "file_extension": ".py",
   "mimetype": "text/x-python",
   "name": "python",
   "nbconvert_exporter": "python",
   "pygments_lexer": "ipython2",
   "version": "2.7.12"
  }
 },
 "nbformat": 4,
 "nbformat_minor": 2
}
