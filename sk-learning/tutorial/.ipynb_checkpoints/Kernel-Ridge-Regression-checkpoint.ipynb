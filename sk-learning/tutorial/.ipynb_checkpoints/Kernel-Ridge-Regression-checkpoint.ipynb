{
 "cells": [
  {
   "cell_type": "markdown",
   "metadata": {
    "collapsed": false,
    "deletable": true,
    "editable": true
   },
   "source": [
    "# Examples\n",
    "1. Kernel Ridge Regression\n",
    "2. Support Vector Regression\n",
    "3. Linear regression"
   ]
  },
  {
   "cell_type": "code",
   "execution_count": 1,
   "metadata": {
    "collapsed": false
   },
   "outputs": [],
   "source": [
    "import numpy as np\n",
    "rng = np.random.RandomState(0)\n",
    "X = 5 * rng.rand(1000, 1)\n",
    "Y = np.sin(X).ravel()\n",
    "# Add noice\n",
    "Y[::5] += 3 * (0.5 - rng.rand(X.shape[0]/5))\n",
    "\n",
    "X_plot = np.linspace(0, 5, 5000)[:, None]"
   ]
  },
  {
   "cell_type": "code",
   "execution_count": 2,
   "metadata": {
    "collapsed": false,
    "deletable": true,
    "editable": true
   },
   "outputs": [
    {
     "name": "stdout",
     "output_type": "stream",
     "text": [
      "SVR complexity and bandwidth selected and model fitted in 28.037 s\n",
      "KRR complexity and bandwidth selected and model fitted in 2.728 s\n",
      "Support vector ratio: 0.000\n",
      "SVR prediction for 5000 inputs in 0.018 s\n",
      "KRR prediction for 5000 inputs in 0.084 s\n"
     ]
    }
   ],
   "source": [
    "from sklearn.svm import SVR\n",
    "from sklearn.model_selection import GridSearchCV\n",
    "from sklearn.model_selection import learning_curve\n",
    "from sklearn.kernel_ridge import KernelRidge\n",
    "import time\n",
    "\n",
    "train_size = 1000\n",
    "svr = GridSearchCV(SVR(kernel='rbf', gamma=0.1), cv=5,\n",
    "                   param_grid={\"C\": [1e0, 1e1, 1e2, 1e3],\n",
    "                               \"gamma\": np.logspace(-2, 2, 5)})\n",
    "\n",
    "kr = GridSearchCV(KernelRidge(kernel='rbf', gamma=0.1), cv=5,\n",
    "                  param_grid={\"alpha\": [1e0, 0.1, 1e-2, 1e-3],\n",
    "                              \"gamma\": np.logspace(-2, 2, 5)})\n",
    "\n",
    "t0 = time.time()\n",
    "svr.fit(X[:train_size], Y[:train_size])\n",
    "svr_fit = time.time() - t0\n",
    "print(\"SVR complexity and bandwidth selected and model fitted in %.3f s\" % svr_fit)\n",
    "\n",
    "t0 = time.time()\n",
    "kr.fit(X[:train_size], Y[:train_size])\n",
    "kr_fit = time.time() - t0\n",
    "print(\"KRR complexity and bandwidth selected and model fitted in %.3f s\" % kr_fit)\n",
    "\n",
    "sv_ratio = svr.best_estimator_.support_.shape[0] / train_size\n",
    "print(\"Support vector ratio: %.3f\" % sv_ratio)\n",
    "\n",
    "t0 = time.time()\n",
    "y_svr = svr.predict(X_plot)\n",
    "svr_predict = time.time() - t0\n",
    "print(\"SVR prediction for %d inputs in %.3f s\" % (X_plot.shape[0], svr_predict))\n",
    "\n",
    "t0 = time.time()\n",
    "y_kr = kr.predict(X_plot)\n",
    "kr_predict = time.time() - t0\n",
    "print(\"KRR prediction for %d inputs in %.3f s\" % (X_plot.shape[0], kr_predict))"
   ]
  },
  {
   "cell_type": "code",
   "execution_count": 6,
   "metadata": {
    "collapsed": false,
    "deletable": true,
    "editable": true
   },
   "outputs": [
    {
     "ename": "SyntaxError",
     "evalue": "invalid syntax (<ipython-input-6-51495dbb98ec>, line 5)",
     "output_type": "error",
     "traceback": [
      "\u001b[0;36m  File \u001b[0;32m\"<ipython-input-6-51495dbb98ec>\"\u001b[0;36m, line \u001b[0;32m5\u001b[0m\n\u001b[0;31m    y_lr = lr.fit(X[:train_size], Y[:train_size])predict(X_plot)\u001b[0m\n\u001b[0m                                                       ^\u001b[0m\n\u001b[0;31mSyntaxError\u001b[0m\u001b[0;31m:\u001b[0m invalid syntax\n"
     ]
    }
   ],
   "source": [
    "from sklearn import linear_model\n",
    "from sklearn.preprocessing import PolynomialFeatures\n",
    "\n",
    "lr = linear_model.LinearRegression()\n",
    "y_lr = lr.fit(X[:train_size], Y[:train_size])predict(X_plot)\n",
    "\n",
    "poly_transform = PolynomialFeatures(degree = 3, interaction_only=False)\n",
    "poly_X = poly_transform.fit_transform(X[:train_size]).astype(float)\n",
    "poly_X_test = poly_transform.fit_transform(X_plot).astype(float)\n",
    "y_lr_poly = lr.fit(poly_X, Y[:train_size]).predict(poly_X_test)\n",
    "\n",
    "svr_lin = SVR(kernel='linear', C=1e3)\n",
    "svr_poly = SVR(kernel='poly', C=1e3, degree=2)\n",
    "y_lin = svr_lin.fit(X[:train_size], Y[:train_size]).predict(X_plot)\n",
    "y_poly = svr_poly.fit(X[:train_size], Y[:train_size]).predict(X_plot)"
   ]
  },
  {
   "cell_type": "code",
   "execution_count": null,
   "metadata": {
    "collapsed": true,
    "deletable": true,
    "editable": true
   },
   "outputs": [],
   "source": [
    "from sklearn.metrics import mean_squared_error\n",
    "y_real = np.sin(X_plot).ravel()\n",
    "\n",
    "svr_mse = mean_squared_error(y_real, y_svr)\n",
    "lr_mse = mean_squared_error(y_real, y_lr)\n",
    "lr_poly_mse = mean_squared_error(y_real, y_lr_poly)\n",
    "kr_mse = mean_squared_error(y_real, y_kr)\n",
    "lin_mse = mean_squared_error(y_real, y_lin)\n",
    "poly_mse = mean_squared_error(y_real, y_poly)\n",
    "\n",
    "print(\"SVR with RBF kernel prediction mean square error %.9f\" % svr_mse)\n",
    "print(\"SVR with linear kernel prediction mean square error %.9f\" % lin_mse)\n",
    "print(\"SVR with polynominal kernel prediction mean squre error %.9f\" % poly_mse)\n",
    "print(\"KRR prediction mean square error %.9f\" % kr_mse)\n",
    "print(\"Linear Regression prediction mean squred error %.5f\" % lr_mse)\n",
    "print(\"Linear regression with polynominal features mse %.5f\" % lr_poly_mse)"
   ]
  },
  {
   "cell_type": "code",
   "execution_count": null,
   "metadata": {
    "collapsed": true
   },
   "outputs": [],
   "source": []
  }
 ],
 "metadata": {
  "kernelspec": {
   "display_name": "Python 2",
   "language": "python",
   "name": "python2"
  },
  "language_info": {
   "codemirror_mode": {
    "name": "ipython",
    "version": 2
   },
   "file_extension": ".py",
   "mimetype": "text/x-python",
   "name": "python",
   "nbconvert_exporter": "python",
   "pygments_lexer": "ipython2",
   "version": "2.7.12"
  }
 },
 "nbformat": 4,
 "nbformat_minor": 2
}
