{
 "cells": [
  {
   "cell_type": "code",
   "execution_count": 20,
   "metadata": {
    "collapsed": false
   },
   "outputs": [
    {
     "name": "stdout",
     "output_type": "stream",
     "text": [
      "Loading Iris data ...\n",
      "Target distribution\n",
      "[(0, 50), (1, 50), (2, 50)]\n",
      "Done\n"
     ]
    }
   ],
   "source": [
    "import numpy as np\n",
    "import matplotlib.pyplot as plt\n",
    "from sklearn import linear_model, datasets\n",
    "\n",
    "print(\"Loading Iris data ...\")\n",
    "iris = datasets.load_iris()\n",
    "iris_X = iris.data\n",
    "iris_Y = iris.target\n",
    "total_size = len(iris_Y)\n",
    "train_size = int(0.7 * total_size)\n",
    "np.random.seed(0)\n",
    "indices = np.random.permutation(len(iris_Y))\n",
    "train_x = iris_X[indices[:train_size]]\n",
    "train_y = iris_Y[indices[:train_size]]\n",
    "\n",
    "test_x = iris_X[indices[train_size:]]\n",
    "test_y = iris_Y[indices[train_size:]]\n",
    "print(\"Target distribution\")\n",
    "print(zip(np.unique(iris.target), np.bincount(iris.target)))\n",
    "print(\"Done\")"
   ]
  },
  {
   "cell_type": "code",
   "execution_count": 11,
   "metadata": {
    "collapsed": false
   },
   "outputs": [
    {
     "name": "stdout",
     "output_type": "stream",
     "text": [
      "SVC mis-classified 1 out of 45 test samples\n"
     ]
    }
   ],
   "source": [
    "from sklearn import svm\n",
    "svc = svm.SVC()\n",
    "svc.fit(train_x, train_y)\n",
    "svc_y = svc.predict(test_x)\n",
    "svc_mis = len(filter(lambda (x, y): x != y, zip(svc_y, test_y)))\n",
    "print(\"SVC mis-classified %d out of %d test samples\" % (svc_mis, test_y.size))"
   ]
  },
  {
   "cell_type": "code",
   "execution_count": 17,
   "metadata": {
    "collapsed": false
   },
   "outputs": [
    {
     "name": "stdout",
     "output_type": "stream",
     "text": [
      "NuSVC mis-classified 3 out of 45 test samples\n"
     ]
    }
   ],
   "source": [
    "nsvc = svm.NuSVC()\n",
    "nsvc.fit(train_x, train_y)\n",
    "nsvc_y = nsvc.predict(test_x)\n",
    "nsvc_mis = len(filter(lambda (x, y): x != y, zip(nsvc_y, test_y)))\n",
    "print(\"NuSVC mis-classified %d out of %d test samples\" % (nsvc_mis, test_y.size))"
   ]
  },
  {
   "cell_type": "code",
   "execution_count": 15,
   "metadata": {
    "collapsed": false
   },
   "outputs": [
    {
     "name": "stdout",
     "output_type": "stream",
     "text": [
      "Linear SVC mis-classified 2 out of 45 test samples\n"
     ]
    }
   ],
   "source": [
    "lsvc = svm.LinearSVC()\n",
    "lsvc.fit(train_x, train_y)\n",
    "lsvc_y = lsvc.predict(test_x)\n",
    "lsvc_mis = len(filter(lambda (x, y): x != y, zip(lsvc_y, test_y)))\n",
    "print(\"Linear SVC mis-classified %d out of %d test samples\" % (lsvc_mis, test_y.size))"
   ]
  },
  {
   "cell_type": "code",
   "execution_count": null,
   "metadata": {
    "collapsed": true
   },
   "outputs": [],
   "source": []
  }
 ],
 "metadata": {
  "kernelspec": {
   "display_name": "Python 2",
   "language": "python",
   "name": "python2"
  },
  "language_info": {
   "codemirror_mode": {
    "name": "ipython",
    "version": 2
   },
   "file_extension": ".py",
   "mimetype": "text/x-python",
   "name": "python",
   "nbconvert_exporter": "python",
   "pygments_lexer": "ipython2",
   "version": "2.7.12"
  }
 },
 "nbformat": 4,
 "nbformat_minor": 2
}
